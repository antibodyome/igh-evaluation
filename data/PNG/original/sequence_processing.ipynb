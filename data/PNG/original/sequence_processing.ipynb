{
 "cells": [
  {
   "cell_type": "markdown",
   "metadata": {},
   "source": [
    "Load libraries."
   ]
  },
  {
   "cell_type": "code",
   "execution_count": 1,
   "metadata": {
    "collapsed": false
   },
   "outputs": [],
   "source": [
    "using LightXML\n",
    "using DataArrays\n",
    "using DataFrames"
   ]
  },
  {
   "cell_type": "code",
   "execution_count": 2,
   "metadata": {
    "collapsed": false
   },
   "outputs": [],
   "source": [
    "png_xdoc = parse_file(\"PNG.gbc.xml\");"
   ]
  },
  {
   "cell_type": "markdown",
   "metadata": {},
   "source": [
    "I start by identifying the root element."
   ]
  },
  {
   "cell_type": "code",
   "execution_count": 3,
   "metadata": {
    "collapsed": false
   },
   "outputs": [],
   "source": [
    "png_xroot = root(png_xdoc);"
   ]
  },
  {
   "cell_type": "markdown",
   "metadata": {},
   "source": [
    "I extract all the sequences and accession numbers as lists, the latter using a comprehension."
   ]
  },
  {
   "cell_type": "code",
   "execution_count": 4,
   "metadata": {
    "collapsed": false
   },
   "outputs": [],
   "source": [
    "png_sequences = get_elements_by_tagname(png_xroot, \"INSDSeq\")\n",
    "png_accessions = [content(find_element(s,\"INSDSeq_primary-accession\")) for s in png_sequences];"
   ]
  },
  {
   "cell_type": "code",
   "execution_count": 5,
   "metadata": {
    "collapsed": false
   },
   "outputs": [
    {
     "data": {
      "text/plain": [
       "1108"
      ]
     },
     "execution_count": 5,
     "metadata": {},
     "output_type": "execute_result"
    }
   ],
   "source": [
    "png_numseq=length(png_sequences)"
   ]
  },
  {
   "cell_type": "markdown",
   "metadata": {},
   "source": [
    "To extract all the information that is held in the list of ```INSDQualifier```s, I loop through all the sequences and generate a dictionary with accession as the key and a dictionary of qualifiers as the value.\n",
    "\n",
    "I start by initialising an empty dictionary, with strings as both the key and the value."
   ]
  },
  {
   "cell_type": "code",
   "execution_count": 6,
   "metadata": {
    "collapsed": false
   },
   "outputs": [
    {
     "data": {
      "text/plain": [
       "Dict{ASCIIString,Dict{ASCIIString,ASCIIString}} with 0 entries"
      ]
     },
     "execution_count": 6,
     "metadata": {},
     "output_type": "execute_result"
    }
   ],
   "source": [
    "png_seq_dict=Dict{ASCIIString,Dict{ASCIIString,ASCIIString}}()"
   ]
  },
  {
   "cell_type": "markdown",
   "metadata": {},
   "source": [
    "Extracting the information is a mixture of ```find_element``` and ```find_elements_by_tagname``` to search for the right elements, ```get_elements_by_tagname```, and finally using ```content``` to extract the contents of the qualifiers."
   ]
  },
  {
   "cell_type": "code",
   "execution_count": 7,
   "metadata": {
    "collapsed": false
   },
   "outputs": [],
   "source": [
    "for i in 1:png_numseq\n",
    "    s=png_sequences[i]\n",
    "    accession=content(find_element(s, \"INSDSeq_primary-accession\"))\n",
    "    feature_table=find_element(s,\"INSDSeq_feature-table\")\n",
    "    features=get_elements_by_tagname(feature_table,\"INSDFeature\")\n",
    "    feature_quals=get_elements_by_tagname(features[1], \"INSDFeature_quals\")\n",
    "    qualifiers=get_elements_by_tagname(feature_quals[1], \"INSDQualifier\")\n",
    "    qualifier_dict=Dict{ASCIIString,ASCIIString}()\n",
    "    for q in qualifiers\n",
    "        n=find_element(q,\"INSDQualifier_name\")\n",
    "        v=find_element(q,\"INSDQualifier_value\")\n",
    "        if v!=nothing\n",
    "            qualifier_dict[content(n)]=content(v)\n",
    "        end\n",
    "    end\n",
    "    png_seq_dict[accession]=qualifier_dict\n",
    "end;"
   ]
  },
  {
   "cell_type": "markdown",
   "metadata": {},
   "source": [
    "To flatten the dictionary, I first make a dictionary of all feature names, with the number of times the field is found."
   ]
  },
  {
   "cell_type": "code",
   "execution_count": 8,
   "metadata": {
    "collapsed": false
   },
   "outputs": [
    {
     "data": {
      "text/plain": [
       "Dict{ASCIIString,Int64} with 10 entries:\n",
       "  \"organism\"        => 1108\n",
       "  \"tissue_type\"     => 1108\n",
       "  \"cell_type\"       => 1108\n",
       "  \"mol_type\"        => 1108\n",
       "  \"dev_stage\"       => 1108\n",
       "  \"clone\"           => 1108\n",
       "  \"collection_date\" => 1108\n",
       "  \"isolate\"         => 1108\n",
       "  \"country\"         => 1108\n",
       "  \"db_xref\"         => 1108"
      ]
     },
     "execution_count": 8,
     "metadata": {},
     "output_type": "execute_result"
    }
   ],
   "source": [
    "png_fn_dict=Dict{ASCIIString,Int64}()\n",
    "for acc in keys(png_seq_dict)\n",
    "    features=png_seq_dict[acc]\n",
    "    for k in keys(features)\n",
    "        current_count=get(png_fn_dict,k,0)\n",
    "        png_fn_dict[k]=current_count+1\n",
    "    end\n",
    "end\n",
    "png_fn_dict"
   ]
  },
  {
   "cell_type": "markdown",
   "metadata": {},
   "source": [
    "I extract the names of the qualifiers as a list, that will be used below to construct a ```DataFrame```. "
   ]
  },
  {
   "cell_type": "code",
   "execution_count": 9,
   "metadata": {
    "collapsed": false
   },
   "outputs": [
    {
     "data": {
      "text/plain": [
       "10-element Array{ASCIIString,1}:\n",
       " \"organism\"       \n",
       " \"tissue_type\"    \n",
       " \"cell_type\"      \n",
       " \"mol_type\"       \n",
       " \"dev_stage\"      \n",
       " \"clone\"          \n",
       " \"collection_date\"\n",
       " \"isolate\"        \n",
       " \"country\"        \n",
       " \"db_xref\"        "
      ]
     },
     "execution_count": 9,
     "metadata": {},
     "output_type": "execute_result"
    }
   ],
   "source": [
    "png_feature_names=collect(keys(png_fn_dict))"
   ]
  },
  {
   "cell_type": "markdown",
   "metadata": {},
   "source": [
    "I then loop through each feature name, for each sequence, determine whether the feature is present, and construct a ```DataArray```, which is then added to a ```DataFrame```."
   ]
  },
  {
   "cell_type": "code",
   "execution_count": 11,
   "metadata": {
    "collapsed": false
   },
   "outputs": [],
   "source": [
    "png_df=DataFrame(accession=png_accessions)\n",
    "png_numfeatures=length(png_feature_names)\n",
    "for i in 1:png_numfeatures\n",
    "    key=png_feature_names[i]\n",
    "    dv=DataArray(ASCIIString[],Bool[])\n",
    "    for j in 1:png_numseq\n",
    "        acc=png_accessions[j]\n",
    "        f=png_seq_dict[acc]\n",
    "        val=get(f,key,NA) # NA is the default\n",
    "        push!(dv,val)\n",
    "    end\n",
    "    png_df[symbol(key)]=dv\n",
    "end;"
   ]
  },
  {
   "cell_type": "markdown",
   "metadata": {},
   "source": [
    "I now have a ```DataFrame``` that has the features in a flat format."
   ]
  },
  {
   "cell_type": "code",
   "execution_count": 12,
   "metadata": {
    "collapsed": false
   },
   "outputs": [
    {
     "data": {
      "text/html": [
       "<table class=\"data-frame\"><tr><th></th><th>accession</th><th>organism</th><th>tissue_type</th><th>cell_type</th><th>mol_type</th><th>dev_stage</th><th>clone</th><th>collection_date</th><th>isolate</th><th>country</th><th>db_xref</th></tr><tr><th>1</th><td>HM773966</td><td>Homo sapiens</td><td>peripheral blood</td><td>B lymphocyte</td><td>mRNA</td><td>adult</td><td>P01G101</td><td>2008</td><td>P01</td><td>Papua New Guinea: Masilakaiufa</td><td>taxon:9606</td></tr><tr><th>2</th><td>HM773967</td><td>Homo sapiens</td><td>peripheral blood</td><td>B lymphocyte</td><td>mRNA</td><td>adult</td><td>P01G103</td><td>2008</td><td>P01</td><td>Papua New Guinea: Masilakaiufa</td><td>taxon:9606</td></tr><tr><th>3</th><td>HM773968</td><td>Homo sapiens</td><td>peripheral blood</td><td>B lymphocyte</td><td>mRNA</td><td>adult</td><td>P01G201</td><td>2008</td><td>P01</td><td>Papua New Guinea: Masilakaiufa</td><td>taxon:9606</td></tr><tr><th>4</th><td>HM773969</td><td>Homo sapiens</td><td>peripheral blood</td><td>B lymphocyte</td><td>mRNA</td><td>adult</td><td>P01G401</td><td>2008</td><td>P01</td><td>Papua New Guinea: Masilakaiufa</td><td>taxon:9606</td></tr><tr><th>5</th><td>HM773970</td><td>Homo sapiens</td><td>peripheral blood</td><td>B lymphocyte</td><td>mRNA</td><td>adult</td><td>P01G402</td><td>2008</td><td>P01</td><td>Papua New Guinea: Masilakaiufa</td><td>taxon:9606</td></tr><tr><th>6</th><td>HM773971</td><td>Homo sapiens</td><td>peripheral blood</td><td>B lymphocyte</td><td>mRNA</td><td>adult</td><td>P02E01</td><td>2008</td><td>P02</td><td>Papua New Guinea: Masilakaiufa</td><td>taxon:9606</td></tr></table>"
      ],
      "text/plain": [
       "6x11 DataFrames.DataFrame\n",
       "| Row | accession  | organism       | tissue_type        | cell_type      |\n",
       "|-----|------------|----------------|--------------------|----------------|\n",
       "| 1   | \"HM773966\" | \"Homo sapiens\" | \"peripheral blood\" | \"B lymphocyte\" |\n",
       "| 2   | \"HM773967\" | \"Homo sapiens\" | \"peripheral blood\" | \"B lymphocyte\" |\n",
       "| 3   | \"HM773968\" | \"Homo sapiens\" | \"peripheral blood\" | \"B lymphocyte\" |\n",
       "| 4   | \"HM773969\" | \"Homo sapiens\" | \"peripheral blood\" | \"B lymphocyte\" |\n",
       "| 5   | \"HM773970\" | \"Homo sapiens\" | \"peripheral blood\" | \"B lymphocyte\" |\n",
       "| 6   | \"HM773971\" | \"Homo sapiens\" | \"peripheral blood\" | \"B lymphocyte\" |\n",
       "\n",
       "| Row | mol_type | dev_stage | clone     | collection_date | isolate |\n",
       "|-----|----------|-----------|-----------|-----------------|---------|\n",
       "| 1   | \"mRNA\"   | \"adult\"   | \"P01G101\" | \"2008\"          | \"P01\"   |\n",
       "| 2   | \"mRNA\"   | \"adult\"   | \"P01G103\" | \"2008\"          | \"P01\"   |\n",
       "| 3   | \"mRNA\"   | \"adult\"   | \"P01G201\" | \"2008\"          | \"P01\"   |\n",
       "| 4   | \"mRNA\"   | \"adult\"   | \"P01G401\" | \"2008\"          | \"P01\"   |\n",
       "| 5   | \"mRNA\"   | \"adult\"   | \"P01G402\" | \"2008\"          | \"P01\"   |\n",
       "| 6   | \"mRNA\"   | \"adult\"   | \"P02E01\"  | \"2008\"          | \"P02\"   |\n",
       "\n",
       "| Row | country                          | db_xref      |\n",
       "|-----|----------------------------------|--------------|\n",
       "| 1   | \"Papua New Guinea: Masilakaiufa\" | \"taxon:9606\" |\n",
       "| 2   | \"Papua New Guinea: Masilakaiufa\" | \"taxon:9606\" |\n",
       "| 3   | \"Papua New Guinea: Masilakaiufa\" | \"taxon:9606\" |\n",
       "| 4   | \"Papua New Guinea: Masilakaiufa\" | \"taxon:9606\" |\n",
       "| 5   | \"Papua New Guinea: Masilakaiufa\" | \"taxon:9606\" |\n",
       "| 6   | \"Papua New Guinea: Masilakaiufa\" | \"taxon:9606\" |"
      ]
     },
     "execution_count": 12,
     "metadata": {},
     "output_type": "execute_result"
    }
   ],
   "source": [
    "head(png_df)"
   ]
  },
  {
   "cell_type": "code",
   "execution_count": 13,
   "metadata": {
    "collapsed": false
   },
   "outputs": [
    {
     "data": {
      "text/plain": [
       "Dict{Union{ASCIIString,DataArrays.NAtype},Int64} with 14 entries:\n",
       "  \"P13\" => 108\n",
       "  \"P08\" => 86\n",
       "  \"P04\" => 85\n",
       "  \"P01\" => 5\n",
       "  \"P14\" => 131\n",
       "  \"P07\" => 51\n",
       "  \"P09\" => 86\n",
       "  \"P02\" => 33\n",
       "  \"P06\" => 79\n",
       "  \"P03\" => 57\n",
       "  \"P11\" => 108\n",
       "  \"P05\" => 46\n",
       "  \"P10\" => 122\n",
       "  \"P12\" => 111"
      ]
     },
     "metadata": {},
     "output_type": "display_data"
    }
   ],
   "source": [
    "display(countmap(png_df[:isolate]))"
   ]
  },
  {
   "cell_type": "markdown",
   "metadata": {},
   "source": [
    "The annotations can now be written to file as a table."
   ]
  },
  {
   "cell_type": "code",
   "execution_count": 14,
   "metadata": {
    "collapsed": false
   },
   "outputs": [],
   "source": [
    "writetable(\"png_annotations.txt\", png_df, separator = '\\t', header = true)"
   ]
  },
  {
   "cell_type": "code",
   "execution_count": 15,
   "metadata": {
    "collapsed": false
   },
   "outputs": [],
   "source": [
    "png_seqstrings=[content(find_element(s,\"INSDSeq_sequence\")) for s in png_sequences];"
   ]
  },
  {
   "cell_type": "markdown",
   "metadata": {},
   "source": [
    "There are various options to output these sequences as a FASTA file. Perhaps the most straightforward is to using the ```@printf``` macro, which if given a stream as the first argument, will print formatted text to the stream."
   ]
  },
  {
   "cell_type": "code",
   "execution_count": 16,
   "metadata": {
    "collapsed": false
   },
   "outputs": [],
   "source": [
    "f=open(\"png_sequences.fas\",\"w\")\n",
    "for i in 1:png_numseq\n",
    "    @printf(f,\">%s\\n%s\\n\",png_accessions[i],png_seqstrings[i])\n",
    "end\n",
    "close(f)"
   ]
  }
 ],
 "metadata": {
  "kernelspec": {
   "display_name": "Julia 0.4.2",
   "language": "julia",
   "name": "julia-0.4"
  },
  "language_info": {
   "file_extension": ".jl",
   "mimetype": "application/julia",
   "name": "julia",
   "version": "0.4.2"
  }
 },
 "nbformat": 4,
 "nbformat_minor": 0
}
